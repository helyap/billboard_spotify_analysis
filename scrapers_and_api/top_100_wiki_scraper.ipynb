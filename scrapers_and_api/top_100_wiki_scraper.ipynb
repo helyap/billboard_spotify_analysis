{
 "cells": [
  {
   "cell_type": "markdown",
   "metadata": {},
   "source": [
    "# Data Collection: \n",
    "\n",
    "## 1. Wikipedia scraper for top 100 song charts, 1958-2021\n",
    "\n",
    "1. Crawls and scrapes Billboard Top 100 song charts from Wikipedia\n",
    "2. Generates a csv file with 6350 songs"
   ]
  },
  {
   "cell_type": "code",
   "execution_count": 9,
   "metadata": {},
   "outputs": [],
   "source": [
    "import requests\n",
    "from bs4 import BeautifulSoup\n",
    "import csv\n",
    "import re\n",
    "\n",
    "\"\"\"\n",
    "    Crawl and scrape Wikipedia for Billboard top 100 songs from 1958 to 2021.\n",
    "    We start from 1958 because that is when Billboard officially launched their\n",
    "    top 100 list. While crawling, script writes to csv file the following features:\n",
    "        no. = rank of song in given year\n",
    "        year = release year of song\n",
    "        song = title of song\n",
    "        artist(s) = name of song artist(s)\n",
    "        song_wiki_url = link to Wikipedia page for song\n",
    "        artist_wiki_url = link to Wikipedia page for artist(s)\n",
    "        \n",
    "    Results in a csv file with 6350 songs. \n",
    "\"\"\"\n",
    "\n",
    "# Setting starting link for web crawl and domain base\n",
    "starting_url = \"https://en.wikipedia.org/wiki/Billboard_year-end_top_50_singles_of_1957\"\n",
    "base_link = \"https://en.wikipedia.org\"\n",
    "\n",
    "# Listing the desired features to be obtained \n",
    "col_names = [\"no.\", \"year\", \"song\", \"artist(s)\", \"song_wiki_url\", \"artist_wiki_url\"]\n",
    "\n",
    "headers = {'User-Agent':'web scraper for class for hyap@uchicago.edu'} \n",
    "response = requests.get(starting_url, params=headers)\n",
    "content = response.content\n",
    "soup = BeautifulSoup(content, 'html.parser', from_encoding='UTF-8')\n",
    "\n"
   ]
  },
  {
   "cell_type": "code",
   "execution_count": 10,
   "metadata": {},
   "outputs": [],
   "source": [
    "# From table on starting url page, use regex to find all Billboard years HTML list elements.\n",
    "billboard_years = soup.find('table', class_=\"nowraplinks\").findAll('li', string=re.compile(r\"^[\\d]{4}$\"))\n",
    "\n",
    "# Opens csv file to writing mode\n",
    "with open(\"top100_1958_to_2021.csv\", \"w\") as f:\n",
    "    csv_writer = csv.writer(f, delimiter=\",\")\n",
    "    csv_writer.writerow(col_names)\n",
    "    # Crawl through table of Billboard year pages\n",
    "    for year_pg in billboard_years:\n",
    "        year = year_pg.text\n",
    "        if int(year) > 1957:\n",
    "            # Get relative link from page and convert to absolute link\n",
    "            link = year_pg.find('a')['href']\n",
    "            url = base_link + link\n",
    "            # Crawl link and find relative content from the top 100 table\n",
    "            response = requests.get(url, params=headers)\n",
    "            content = response.content\n",
    "            soup = BeautifulSoup(content, 'html.parser', from_encoding='UTF-8')\n",
    "            hot_table = soup.find('table', class_ = 'wikitable')\n",
    "            for row in hot_table.findAll(\"tr\"):\n",
    "                row_cont = row.text.strip('\\n').split('\\n')\n",
    "                row_cont = [i for i in row_cont if len(i) > 0]\n",
    "                cols = row.findAll('td')\n",
    "                # Checks the numbers of columns as method for ensuring the desired information is being pulled\n",
    "                if len(cols) == 3:\n",
    "                    song_links = [base_link + link[\"href\"] for link in cols[1].findAll('a', href=True)]\n",
    "                    artist_links = [base_link + link[\"href\"] for link in cols[2].findAll('a', href=True)]\n",
    "                    row_cont.insert(1, year)\n",
    "                    row_cont = row_cont + [song_links] + [artist_links]\n",
    "                    if len(row_cont) == 6: \n",
    "                        csv_writer.writerow(row_cont)"
   ]
  },
  {
   "cell_type": "code",
   "execution_count": null,
   "metadata": {},
   "outputs": [],
   "source": []
  }
 ],
 "metadata": {
  "kernelspec": {
   "display_name": "Python 3",
   "language": "python",
   "name": "python3"
  },
  "language_info": {
   "codemirror_mode": {
    "name": "ipython",
    "version": 3
   },
   "file_extension": ".py",
   "mimetype": "text/x-python",
   "name": "python",
   "nbconvert_exporter": "python",
   "pygments_lexer": "ipython3",
   "version": "3.7.3"
  }
 },
 "nbformat": 4,
 "nbformat_minor": 2
}
