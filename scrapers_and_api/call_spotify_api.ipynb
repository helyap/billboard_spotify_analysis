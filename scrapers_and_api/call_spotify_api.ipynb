{
 "cells": [
  {
   "cell_type": "markdown",
   "id": "0e3d1f1f",
   "metadata": {},
   "source": [
    "# Data Collection: \n",
    "\n",
    "## 2. Query Spotify Audio Analysis API for music audio features\n",
    "https://developer.spotify.com/community/showcase/spotify-audio-analysis/\n",
    "\n",
    "1. Takes song name and artist name from the top100_1958_to_2021.csv file and send to the API to query for audio features. \n",
    "2. As final output, it creates a new csv file with a column containing the sound features.\n",
    "\n",
    "<span style=\"color:red\"><i> Note: This process takes ~3 hours so it will not be demonstrated in class or in the recording. In case users would like to run this file, messages have been added to the query process to provide updates</i></span>"
   ]
  },
  {
   "cell_type": "code",
   "execution_count": 2,
   "id": "5752c15c",
   "metadata": {},
   "outputs": [],
   "source": [
    "import os\n",
    "import json\n",
    "import spotipy as sp\n",
    "from spotipy.oauth2 import SpotifyClientCredentials\n",
    "import spotipy.util as util\n",
    "import pandas as pd\n",
    "import jellyfish\n",
    "import re\n",
    "import csv\n",
    "import time"
   ]
  },
  {
   "cell_type": "code",
   "execution_count": 3,
   "id": "ae327be4",
   "metadata": {},
   "outputs": [],
   "source": [
    "# Personal account credentials from Spotify. Please replace with your own account\n",
    "# credentials before running the code.\n",
    "CLIENT_ID = 'a93fe0f1958b48a485d1ed9e9ccXXXXX'\n",
    "CLIENT_SECRET = '2b86da6604934f6c926cf503c1eXXXXX'\n",
    "username = '31gv6p26mfot5zvslqhcllyXXXXX'\n",
    "scope = 'user-library-read'"
   ]
  },
  {
   "cell_type": "code",
   "execution_count": 4,
   "id": "f21e1eb8",
   "metadata": {},
   "outputs": [],
   "source": [
    "spotify = sp.Spotify(client_credentials_manager=\n",
    "                     SpotifyClientCredentials(CLIENT_ID, CLIENT_SECRET))"
   ]
  },
  {
   "cell_type": "code",
   "execution_count": 3,
   "id": "08ac3ae0",
   "metadata": {},
   "outputs": [
    {
     "name": "stdout",
     "output_type": "stream",
     "text": [
      "(6351, 6)\n"
     ]
    },
    {
     "data": {
      "text/html": [
       "<div>\n",
       "<style scoped>\n",
       "    .dataframe tbody tr th:only-of-type {\n",
       "        vertical-align: middle;\n",
       "    }\n",
       "\n",
       "    .dataframe tbody tr th {\n",
       "        vertical-align: top;\n",
       "    }\n",
       "\n",
       "    .dataframe thead th {\n",
       "        text-align: right;\n",
       "    }\n",
       "</style>\n",
       "<table border=\"1\" class=\"dataframe\">\n",
       "  <thead>\n",
       "    <tr style=\"text-align: right;\">\n",
       "      <th></th>\n",
       "      <th>no.</th>\n",
       "      <th>year</th>\n",
       "      <th>song</th>\n",
       "      <th>artist(s)</th>\n",
       "      <th>song_wiki_url</th>\n",
       "      <th>artist_wiki_url</th>\n",
       "    </tr>\n",
       "  </thead>\n",
       "  <tbody>\n",
       "    <tr>\n",
       "      <th>6151</th>\n",
       "      <td>1</td>\n",
       "      <td>2020</td>\n",
       "      <td>\"Blinding Lights\"</td>\n",
       "      <td>The Weeknd</td>\n",
       "      <td>['https://en.wikipedia.org/wiki/Blinding_Lights']</td>\n",
       "      <td>['https://en.wikipedia.org/wiki/The_Weeknd']</td>\n",
       "    </tr>\n",
       "    <tr>\n",
       "      <th>6152</th>\n",
       "      <td>2</td>\n",
       "      <td>2020</td>\n",
       "      <td>\"Circles\"</td>\n",
       "      <td>Post Malone</td>\n",
       "      <td>['https://en.wikipedia.org/wiki/Circles_(Post_...</td>\n",
       "      <td>['https://en.wikipedia.org/wiki/Post_Malone']</td>\n",
       "    </tr>\n",
       "    <tr>\n",
       "      <th>6153</th>\n",
       "      <td>3</td>\n",
       "      <td>2020</td>\n",
       "      <td>\"The Box\"</td>\n",
       "      <td>Roddy Ricch</td>\n",
       "      <td>['https://en.wikipedia.org/wiki/The_Box_(Roddy...</td>\n",
       "      <td>['https://en.wikipedia.org/wiki/Roddy_Ricch']</td>\n",
       "    </tr>\n",
       "    <tr>\n",
       "      <th>6154</th>\n",
       "      <td>4</td>\n",
       "      <td>2020</td>\n",
       "      <td>\"Don't Start Now\"</td>\n",
       "      <td>Dua Lipa</td>\n",
       "      <td>['https://en.wikipedia.org/wiki/Don%27t_Start_...</td>\n",
       "      <td>['https://en.wikipedia.org/wiki/Dua_Lipa']</td>\n",
       "    </tr>\n",
       "    <tr>\n",
       "      <th>6155</th>\n",
       "      <td>5</td>\n",
       "      <td>2020</td>\n",
       "      <td>\"Rockstar\"</td>\n",
       "      <td>DaBaby featuring Roddy Ricch</td>\n",
       "      <td>['https://en.wikipedia.org/wiki/Rockstar_(DaBa...</td>\n",
       "      <td>['https://en.wikipedia.org/wiki/DaBaby', 'http...</td>\n",
       "    </tr>\n",
       "  </tbody>\n",
       "</table>\n",
       "</div>"
      ],
      "text/plain": [
       "     no.  year               song                     artist(s)  \\\n",
       "6151   1  2020  \"Blinding Lights\"                    The Weeknd   \n",
       "6152   2  2020          \"Circles\"                   Post Malone   \n",
       "6153   3  2020          \"The Box\"                   Roddy Ricch   \n",
       "6154   4  2020  \"Don't Start Now\"                      Dua Lipa   \n",
       "6155   5  2020         \"Rockstar\"  DaBaby featuring Roddy Ricch   \n",
       "\n",
       "                                          song_wiki_url  \\\n",
       "6151  ['https://en.wikipedia.org/wiki/Blinding_Lights']   \n",
       "6152  ['https://en.wikipedia.org/wiki/Circles_(Post_...   \n",
       "6153  ['https://en.wikipedia.org/wiki/The_Box_(Roddy...   \n",
       "6154  ['https://en.wikipedia.org/wiki/Don%27t_Start_...   \n",
       "6155  ['https://en.wikipedia.org/wiki/Rockstar_(DaBa...   \n",
       "\n",
       "                                        artist_wiki_url  \n",
       "6151       ['https://en.wikipedia.org/wiki/The_Weeknd']  \n",
       "6152      ['https://en.wikipedia.org/wiki/Post_Malone']  \n",
       "6153      ['https://en.wikipedia.org/wiki/Roddy_Ricch']  \n",
       "6154         ['https://en.wikipedia.org/wiki/Dua_Lipa']  \n",
       "6155  ['https://en.wikipedia.org/wiki/DaBaby', 'http...  "
      ]
     },
     "execution_count": 3,
     "metadata": {},
     "output_type": "execute_result"
    }
   ],
   "source": [
    "top100_data = pd.read_csv(\"../data/top100_1958_to_2021.csv\")\n",
    "print(top100_data.shape)\n",
    "top100_data[top100_data['year']==2020].head()"
   ]
  },
  {
   "cell_type": "code",
   "execution_count": 17,
   "id": "b6b1eb48",
   "metadata": {},
   "outputs": [],
   "source": [
    "def get_sp_features(sp_id, flag):\n",
    "    \"\"\"\n",
    "    Given a Spotify song ID, find the wanted audio features\n",
    "    Inputs: Spotify song ID, and previous state of the success flag.\n",
    "    Returns: A dictionary of wanted features and update success flag.\n",
    "    \"\"\"\n",
    "    wanted_keys = ['danceability','energy','key','loudness','mode','speechiness',\n",
    "                   'acousticness','instrumentalness','liveness','valence','tempo']\n",
    "    all_features = spotify.audio_features(sp_id)\n",
    "    if all_features[0]:\n",
    "        wanted_features = {key:all_features[0].get(key) for key in wanted_keys}\n",
    "    else:\n",
    "        flag = 1\n",
    "        wanted_features = []\n",
    "    \n",
    "    return wanted_features, flag"
   ]
  },
  {
   "cell_type": "code",
   "execution_count": 18,
   "id": "27a9ada7",
   "metadata": {},
   "outputs": [],
   "source": [
    "def check_match(wiki_name, sp_name, wiki_artist, sp_artist):\n",
    "    \"\"\"\n",
    "    Check whether and song name and artist name received from Wikipedia and\n",
    "    Spotify match.\n",
    "    Inputs: strings of Spotify and Wikipedia song and artist names.\n",
    "    Returns a 0/1 flag indicating whether they match.\n",
    "    \"\"\"\n",
    "    if wiki_name.replace('\"','') == sp_name:\n",
    "        jw_score = 1   \n",
    "    elif \" featuring\" in wiki_artist:\n",
    "        wanted_name = re.findall('.+?(?= featuring)', wiki_artist)\n",
    "        jw_score = jellyfish.jaro_winkler_similarity(wanted_name[0], sp_artist)\n",
    "    elif \" and\" in wiki_artist:\n",
    "        wanted_name = re.findall('.+?(?= and)', wiki_artist)\n",
    "        jw_score = jellyfish.jaro_winkler_similarity(wanted_name[0], sp_artist)\n",
    "    else:\n",
    "        jw_score = jellyfish.jaro_winkler_similarity(wiki_artist, sp_artist)\n",
    "    \n",
    "    flag = 1 if jw_score < 0.8 else 0 \n",
    "    \n",
    "    return flag"
   ]
  },
  {
   "cell_type": "code",
   "execution_count": 25,
   "id": "4be1c07a",
   "metadata": {},
   "outputs": [],
   "source": [
    "def unpack_sp_data(result, ind):\n",
    "    \"\"\"\n",
    "    Unpack Spotify query results to get details for each field.\n",
    "    Inputs: Query result and the target index within the result.\n",
    "    Returns: Spotify ID, song name, first artist, and song duration; all strings.\n",
    "    \"\"\"\n",
    "    sp_id = result['tracks']['items'][ind]['id']\n",
    "    sp_info = spotify.track(sp_id)\n",
    "    sp_name = sp_info['name'].lower().replace(\"'\", \"\")\n",
    "    sp_artist = sp_info['artists'][0]['name'].lower().replace(\"'\", \"\")\n",
    "    duration = sp_info['duration_ms']\n",
    "    \n",
    "    return sp_id, sp_name, sp_artist, duration"
   ]
  },
  {
   "cell_type": "code",
   "execution_count": 20,
   "id": "32328720",
   "metadata": {},
   "outputs": [],
   "source": [
    "def unpack_wiki_data(top100_data, i):\n",
    "    \"\"\"\n",
    "    For any given Wikipedia row, unpack the row to get each field.\n",
    "    Inputs: all Wikipedia songs (pd dataframe), and the target index.\n",
    "    Returns: Wikipedia song name, artist name, and year.\n",
    "    \"\"\"\n",
    "    wiki_name = top100_data.iloc[i]['song'].lower().replace(\"'\", \"\")\n",
    "    wiki_artist = top100_data.iloc[i]['artist(s)'].lower().replace(\"''\", \"\")\n",
    "    year = top100_data.iloc[i]['year']\n",
    "    \n",
    "    return wiki_name, wiki_artist, year"
   ]
  },
  {
   "cell_type": "code",
   "execution_count": 21,
   "id": "1d5e5c4a",
   "metadata": {},
   "outputs": [],
   "source": [
    "def send_query(wiki_name, wiki_artist):\n",
    "    \"\"\"\n",
    "    Form and send a search query to Spotify based on song and artist name.\n",
    "    Inputs: wanted song name and artist name (strings).\n",
    "    Returns: The received result from Spotify.\n",
    "    \"\"\"\n",
    "    query = 'track:' + wiki_name + '+artist:' + wiki_artist\n",
    "    result = spotify.search(q=query, type='track')\n",
    "    if result_not_received(result):\n",
    "        query = 'track:' + wiki_name\n",
    "        result = spotify.search(q=query, type='track')\n",
    "    \n",
    "    return result\n",
    "\n",
    "\n",
    "def result_not_received(result):\n",
    "    \"\"\"Check whether query was successful\"\"\"\n",
    "    if result['tracks']['items']:\n",
    "        return False\n",
    "    else:\n",
    "        return True"
   ]
  },
  {
   "cell_type": "code",
   "execution_count": 10,
   "id": "d7ed4339",
   "metadata": {},
   "outputs": [
    {
     "name": "stdout",
     "output_type": "stream",
     "text": [
      "Status: at index 0 and year 1958\n",
      "Status: at index 100 and year 1959\n",
      "Status: at index 200 and year 1960\n",
      "Status: at index 300 and year 1961\n",
      "Status: at index 400 and year 1962\n",
      "Status: at index 500 and year 1963\n",
      "Status: at index 600 and year 1964\n",
      "Status: at index 700 and year 1965\n",
      "Status: at index 800 and year 1966\n",
      "Status: at index 900 and year 1967\n",
      "Status: at index 1000 and year 1968\n",
      "Status: at index 1100 and year 1969\n",
      "Status: at index 1200 and year 1970\n",
      "Status: at index 1300 and year 1971\n",
      "Status: at index 1400 and year 1972\n",
      "Status: at index 1500 and year 1973\n",
      "Status: at index 1600 and year 1974\n",
      "Status: at index 1700 and year 1975\n",
      "Status: at index 1800 and year 1976\n",
      "Status: at index 1900 and year 1977\n",
      "Status: at index 2000 and year 1978\n",
      "Status: at index 2100 and year 1979\n",
      "Status: at index 2200 and year 1980\n",
      "Status: at index 2300 and year 1981\n",
      "Status: at index 2400 and year 1982\n",
      "Status: at index 2500 and year 1983\n",
      "Status: at index 2600 and year 1984\n",
      "Status: at index 2700 and year 1985\n",
      "Status: at index 2800 and year 1986\n",
      "Status: at index 2900 and year 1987\n",
      "Status: at index 3000 and year 1988\n",
      "Status: at index 3100 and year 1989\n",
      "Status: at index 3200 and year 1990\n",
      "Status: at index 3300 and year 1991\n",
      "Status: at index 3400 and year 1992\n",
      "Status: at index 3500 and year 1993\n",
      "Status: at index 3600 and year 1994\n",
      "Status: at index 3700 and year 1995\n",
      "Status: at index 3800 and year 1996\n",
      "Status: at index 3900 and year 1997\n",
      "Status: at index 4000 and year 1998\n",
      "Status: at index 4100 and year 1999\n",
      "Status: at index 4200 and year 2000\n",
      "Status: at index 4300 and year 2001\n",
      "Status: at index 4400 and year 2002\n",
      "Status: at index 4500 and year 2003\n",
      "Status: at index 4600 and year 2004\n",
      "Status: at index 4700 and year 2005\n",
      "Status: at index 4800 and year 2006\n",
      "Status: at index 4900 and year 2007\n",
      "Status: at index 5000 and year 2008\n",
      "Status: at index 5100 and year 2009\n",
      "Status: at index 5200 and year 2010\n",
      "Status: at index 5300 and year 2011\n",
      "Status: at index 5400 and year 2012\n",
      "Status: at index 5500 and year 2013\n",
      "Status: at index 5600 and year 2014\n",
      "Status: at index 5700 and year 2015\n",
      "Status: at index 5800 and year 2016\n",
      "Status: at index 5900 and year 2017\n",
      "Status: at index 6000 and year 2018\n",
      "Status: at index 6100 and year 2019\n",
      "Status: at index 6200 and year 2020\n",
      "Status: at index 6300 and year 2021\n"
     ]
    }
   ],
   "source": [
    "number_of_songs = len(top100_data)\n",
    "output_file = open(\"../data/spotify_results.csv\", \"w\")\n",
    "writer = csv.writer(output_file)\n",
    "writer.writerow(['index', 'wiki_name', 'wiki_artist', 'year', 'sp_id', 'sp_name',\n",
    "                 'sp_artist', 'duration', 'audio_features', 'flag'])\n",
    "# Iterate through all the rows of the wikipedia dataframe\n",
    "for i in range(number_of_songs):\n",
    "    wiki_name, wiki_artist, year = unpack_wiki_data(top100_data, i)\n",
    "    result = send_query(wiki_name, wiki_artist)\n",
    "    \n",
    "    if result_not_received(result):\n",
    "        writer.writerow([i, wiki_name, wiki_artist, year, None, None,\n",
    "                         None, None, None, 1])\n",
    "        continue\n",
    "    \n",
    "    sp_id, sp_name, sp_artist, duration = unpack_sp_data(result, 0)\n",
    "    flag = check_match(wiki_name, sp_name, wiki_artist, sp_artist) \n",
    "    audio_features, flag = get_sp_features(sp_id, flag)\n",
    "    \n",
    "    writer.writerow([i, wiki_name, wiki_artist, year, sp_id, sp_name,\n",
    "                     sp_artist, duration, audio_features, flag])\n",
    "    \n",
    "    if i % 100 == 0:\n",
    "        print(\"Status: at index {} and year {}\".format(i, year))\n",
    "        # Pause to avoid API problems\n",
    "        time.sleep(10)\n",
    "    \n",
    "output_file.close()"
   ]
  },
  {
   "cell_type": "code",
   "execution_count": 36,
   "id": "3b6c5ae3",
   "metadata": {
    "scrolled": true
   },
   "outputs": [
    {
     "data": {
      "text/html": [
       "<div>\n",
       "<style scoped>\n",
       "    .dataframe tbody tr th:only-of-type {\n",
       "        vertical-align: middle;\n",
       "    }\n",
       "\n",
       "    .dataframe tbody tr th {\n",
       "        vertical-align: top;\n",
       "    }\n",
       "\n",
       "    .dataframe thead th {\n",
       "        text-align: right;\n",
       "    }\n",
       "</style>\n",
       "<table border=\"1\" class=\"dataframe\">\n",
       "  <thead>\n",
       "    <tr style=\"text-align: right;\">\n",
       "      <th></th>\n",
       "      <th>index</th>\n",
       "      <th>wiki_name</th>\n",
       "      <th>wiki_artist</th>\n",
       "      <th>year</th>\n",
       "      <th>sp_id</th>\n",
       "      <th>sp_name</th>\n",
       "      <th>sp_artist</th>\n",
       "      <th>duration</th>\n",
       "      <th>audio_features</th>\n",
       "      <th>flag</th>\n",
       "    </tr>\n",
       "  </thead>\n",
       "  <tbody>\n",
       "    <tr>\n",
       "      <th>6346</th>\n",
       "      <td>6346</td>\n",
       "      <td>\"things a man oughta know\"</td>\n",
       "      <td>lainey wilson</td>\n",
       "      <td>2021</td>\n",
       "      <td>5QS8PNEWbqTEZyQ6e9ZbJf</td>\n",
       "      <td>things a man oughta know</td>\n",
       "      <td>lainey wilson</td>\n",
       "      <td>203373.0</td>\n",
       "      <td>{'danceability': 0.659, 'energy': 0.683, 'key'...</td>\n",
       "      <td>0</td>\n",
       "    </tr>\n",
       "    <tr>\n",
       "      <th>6347</th>\n",
       "      <td>6347</td>\n",
       "      <td>\"throat baby (go baby)\"</td>\n",
       "      <td>brs kash</td>\n",
       "      <td>2021</td>\n",
       "      <td>15C4TnrrVdym7UykxQIOTZ</td>\n",
       "      <td>throat baby (go baby) (with dababy &amp; city girl...</td>\n",
       "      <td>brs kash</td>\n",
       "      <td>211609.0</td>\n",
       "      <td>{'danceability': 0.878, 'energy': 0.475, 'key'...</td>\n",
       "      <td>0</td>\n",
       "    </tr>\n",
       "    <tr>\n",
       "      <th>6348</th>\n",
       "      <td>6348</td>\n",
       "      <td>\"tombstone\"</td>\n",
       "      <td>rod wave</td>\n",
       "      <td>2021</td>\n",
       "      <td>3zc8VZEpM1onYV4FWGdFvm</td>\n",
       "      <td>tombstone</td>\n",
       "      <td>rod wave</td>\n",
       "      <td>160078.0</td>\n",
       "      <td>{'danceability': 0.55, 'energy': 0.637, 'key':...</td>\n",
       "      <td>0</td>\n",
       "    </tr>\n",
       "    <tr>\n",
       "      <th>6349</th>\n",
       "      <td>6349</td>\n",
       "      <td>\"drinkin beer. talkin god. amen.\"</td>\n",
       "      <td>chase rice featuring florida georgia line</td>\n",
       "      <td>2021</td>\n",
       "      <td>1UYfAU2bwgjaM5rIIPQleC</td>\n",
       "      <td>drinkin beer. talkin god. amen. (feat. florida...</td>\n",
       "      <td>chase rice</td>\n",
       "      <td>160839.0</td>\n",
       "      <td>{'danceability': 0.627, 'energy': 0.678, 'key'...</td>\n",
       "      <td>0</td>\n",
       "    </tr>\n",
       "    <tr>\n",
       "      <th>6350</th>\n",
       "      <td>6350</td>\n",
       "      <td>\"todo de ti\"</td>\n",
       "      <td>rauw alejandro</td>\n",
       "      <td>2021</td>\n",
       "      <td>4fSIb4hdOQ151TILNsSEaF</td>\n",
       "      <td>todo de ti</td>\n",
       "      <td>rauw alejandro</td>\n",
       "      <td>199604.0</td>\n",
       "      <td>{'danceability': 0.78, 'energy': 0.718, 'key':...</td>\n",
       "      <td>0</td>\n",
       "    </tr>\n",
       "  </tbody>\n",
       "</table>\n",
       "</div>"
      ],
      "text/plain": [
       "      index                          wiki_name  \\\n",
       "6346   6346         \"things a man oughta know\"   \n",
       "6347   6347            \"throat baby (go baby)\"   \n",
       "6348   6348                        \"tombstone\"   \n",
       "6349   6349  \"drinkin beer. talkin god. amen.\"   \n",
       "6350   6350                       \"todo de ti\"   \n",
       "\n",
       "                                    wiki_artist  year                   sp_id  \\\n",
       "6346                              lainey wilson  2021  5QS8PNEWbqTEZyQ6e9ZbJf   \n",
       "6347                                   brs kash  2021  15C4TnrrVdym7UykxQIOTZ   \n",
       "6348                                   rod wave  2021  3zc8VZEpM1onYV4FWGdFvm   \n",
       "6349  chase rice featuring florida georgia line  2021  1UYfAU2bwgjaM5rIIPQleC   \n",
       "6350                             rauw alejandro  2021  4fSIb4hdOQ151TILNsSEaF   \n",
       "\n",
       "                                                sp_name       sp_artist  \\\n",
       "6346                           things a man oughta know   lainey wilson   \n",
       "6347  throat baby (go baby) (with dababy & city girl...        brs kash   \n",
       "6348                                          tombstone        rod wave   \n",
       "6349  drinkin beer. talkin god. amen. (feat. florida...      chase rice   \n",
       "6350                                         todo de ti  rauw alejandro   \n",
       "\n",
       "      duration                                     audio_features  flag  \n",
       "6346  203373.0  {'danceability': 0.659, 'energy': 0.683, 'key'...     0  \n",
       "6347  211609.0  {'danceability': 0.878, 'energy': 0.475, 'key'...     0  \n",
       "6348  160078.0  {'danceability': 0.55, 'energy': 0.637, 'key':...     0  \n",
       "6349  160839.0  {'danceability': 0.627, 'energy': 0.678, 'key'...     0  \n",
       "6350  199604.0  {'danceability': 0.78, 'energy': 0.718, 'key':...     0  "
      ]
     },
     "execution_count": 36,
     "metadata": {},
     "output_type": "execute_result"
    }
   ],
   "source": [
    "results_csv = pd.read_csv(\"../data/spotify_results.csv\")\n",
    "results_csv.tail()"
   ]
  },
  {
   "cell_type": "code",
   "execution_count": 3,
   "id": "8eca3e00",
   "metadata": {},
   "outputs": [
    {
     "data": {
      "text/plain": [
       "(6351, 10)"
      ]
     },
     "execution_count": 3,
     "metadata": {},
     "output_type": "execute_result"
    }
   ],
   "source": [
    "results_csv.shape"
   ]
  },
  {
   "cell_type": "code",
   "execution_count": 4,
   "id": "542792bf",
   "metadata": {},
   "outputs": [
    {
     "data": {
      "text/plain": [
       "49"
      ]
     },
     "execution_count": 4,
     "metadata": {},
     "output_type": "execute_result"
    }
   ],
   "source": [
    "results_csv['sp_id'].isna().sum()"
   ]
  },
  {
   "cell_type": "code",
   "execution_count": 5,
   "id": "b83f8fbe",
   "metadata": {},
   "outputs": [
    {
     "data": {
      "text/plain": [
       "314"
      ]
     },
     "execution_count": 5,
     "metadata": {},
     "output_type": "execute_result"
    }
   ],
   "source": [
    "results_csv['flag'].sum()"
   ]
  },
  {
   "cell_type": "code",
   "execution_count": 6,
   "id": "67edd44b",
   "metadata": {},
   "outputs": [],
   "source": [
    "flagged = results_csv[results_csv['flag']==1]\n",
    "mismatch = flagged[flagged['sp_id'].notnull()]"
   ]
  },
  {
   "cell_type": "code",
   "execution_count": 38,
   "id": "e88a59f3",
   "metadata": {},
   "outputs": [],
   "source": [
    "cleaned_results = results_csv.copy(deep=True)"
   ]
  },
  {
   "cell_type": "code",
   "execution_count": 43,
   "id": "1f73d3cf",
   "metadata": {},
   "outputs": [
    {
     "data": {
      "text/plain": [
       "(6351, 10)"
      ]
     },
     "execution_count": 43,
     "metadata": {},
     "output_type": "execute_result"
    }
   ],
   "source": [
    "cleaned_results.shape"
   ]
  },
  {
   "cell_type": "code",
   "execution_count": 44,
   "id": "bbd0aaee",
   "metadata": {},
   "outputs": [
    {
     "data": {
      "text/plain": [
       "314"
      ]
     },
     "execution_count": 44,
     "metadata": {},
     "output_type": "execute_result"
    }
   ],
   "source": [
    "cleaned_results['flag'].sum()"
   ]
  },
  {
   "cell_type": "code",
   "execution_count": 62,
   "id": "f27d8019",
   "metadata": {},
   "outputs": [],
   "source": [
    "# For the songs that were not found correctly, try looking at the second search result\n",
    "number_of_songs = len(top100_data)\n",
    "changed_ids = []\n",
    "for i in range(number_of_songs):\n",
    "    if cleaned_results.iloc[i]['flag'] == 0 or pd.isnull(cleaned_results.iloc[i]['sp_id']):\n",
    "        continue\n",
    "    \n",
    "    name = cleaned_results.iloc[i]['wiki_name'].lower().replace(\"'\", \"\")\n",
    "    artist = cleaned_results.iloc[i]['wiki_artist'].lower().replace(\"'\", \"\")\n",
    "    result = send_query(name, artist)\n",
    "    \n",
    "    if result_not_received(result) or len(result['tracks']['items']) < 2:\n",
    "        continue\n",
    "\n",
    "    sp_id, sp_name, sp_artist, duration = unpack_sp_data(result, 1)\n",
    "    flag = check_match(name, sp_name, artist, sp_artist)\n",
    "    if sp_name in name and sp_artist in artist:\n",
    "        audio_features, flag = get_sp_features(sp_id, flag)\n",
    "        cleaned_results.at[i, 'sp_id'] = sp_id\n",
    "        cleaned_results.at[i, 'sp_name'] = sp_name\n",
    "        cleaned_results.at[i, 'sp_artist'] = sp_artist\n",
    "        cleaned_results.at[i, 'duration'] = duration\n",
    "        cleaned_results.at[i, 'audio_features'] = audio_features\n",
    "        cleaned_results.at[i, 'flag'] = flag\n",
    "        changed_ids.append(i)"
   ]
  },
  {
   "cell_type": "code",
   "execution_count": 78,
   "id": "aaf868bc",
   "metadata": {},
   "outputs": [
    {
     "data": {
      "text/plain": [
       "33"
      ]
     },
     "execution_count": 78,
     "metadata": {},
     "output_type": "execute_result"
    }
   ],
   "source": [
    "len(changed_ids)"
   ]
  },
  {
   "cell_type": "code",
   "execution_count": 64,
   "id": "e6e4ba05",
   "metadata": {},
   "outputs": [
    {
     "data": {
      "text/plain": [
       "(6351, 10)"
      ]
     },
     "execution_count": 64,
     "metadata": {},
     "output_type": "execute_result"
    }
   ],
   "source": [
    "cleaned_results.shape"
   ]
  },
  {
   "cell_type": "code",
   "execution_count": 68,
   "id": "33614745",
   "metadata": {},
   "outputs": [
    {
     "data": {
      "text/plain": [
       "281"
      ]
     },
     "execution_count": 68,
     "metadata": {},
     "output_type": "execute_result"
    }
   ],
   "source": [
    "cleaned_results['flag'].sum()"
   ]
  },
  {
   "cell_type": "code",
   "execution_count": 72,
   "id": "2a2dafd6",
   "metadata": {},
   "outputs": [
    {
     "data": {
      "text/plain": [
       "(281, 10)"
      ]
     },
     "execution_count": 72,
     "metadata": {},
     "output_type": "execute_result"
    }
   ],
   "source": [
    "flagged = cleaned_results[cleaned_results['flag']==1]\n",
    "flagged.shape"
   ]
  },
  {
   "cell_type": "code",
   "execution_count": 73,
   "id": "ebf2a826",
   "metadata": {},
   "outputs": [
    {
     "data": {
      "text/plain": [
       "(6070, 10)"
      ]
     },
     "execution_count": 73,
     "metadata": {},
     "output_type": "execute_result"
    }
   ],
   "source": [
    "cleaned_results.drop(flagged['index'].tolist(), axis=0, inplace=True)\n",
    "cleaned_results.shape"
   ]
  },
  {
   "cell_type": "code",
   "execution_count": 75,
   "id": "4775a401",
   "metadata": {},
   "outputs": [],
   "source": [
    "cleaned_results.to_csv('../data/spotify_results_cleaned.csv', index=False)"
   ]
  }
 ],
 "metadata": {
  "kernelspec": {
   "display_name": "Python 3 (ipykernel)",
   "language": "python",
   "name": "python3"
  },
  "language_info": {
   "codemirror_mode": {
    "name": "ipython",
    "version": 3
   },
   "file_extension": ".py",
   "mimetype": "text/x-python",
   "name": "python",
   "nbconvert_exporter": "python",
   "pygments_lexer": "ipython3",
   "version": "3.9.7"
  }
 },
 "nbformat": 4,
 "nbformat_minor": 5
}
